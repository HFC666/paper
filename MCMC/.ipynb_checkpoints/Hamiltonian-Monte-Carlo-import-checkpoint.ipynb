{
 "cells": [
  {
   "cell_type": "code",
   "execution_count": 1,
   "metadata": {},
   "outputs": [],
   "source": [
    "import torch\n",
    "\n",
    "import math\n",
    "\n",
    "import numpy as np\n",
    "\n",
    "import torch as th\n",
    "\n",
    "import matplotlib\n",
    "%matplotlib inline\n",
    "\n",
    "import matplotlib.pyplot as plt\n",
    "\n",
    "from matplotlib.pyplot import hist"
   ]
  },
  {
   "cell_type": "code",
   "execution_count": 2,
   "metadata": {},
   "outputs": [],
   "source": [
    "def normpdf(x, mean=torch.tensor(0.0), scale=torch.tensor(1.)):\n",
    "    e = -(x - mean)**2. / (2. * scale**2)\n",
    "    return torch.exp(e) / (torch.sqrt(2 * torch.tensor(math.pi)) * scale)"
   ]
  },
  {
   "cell_type": "code",
   "execution_count": 3,
   "metadata": {},
   "outputs": [
    {
     "data": {
      "text/plain": [
       "tensor(0.2420)"
      ]
     },
     "execution_count": 3,
     "metadata": {},
     "output_type": "execute_result"
    }
   ],
   "source": [
    "normpdf(torch.tensor(1.0))"
   ]
  },
  {
   "cell_type": "code",
   "execution_count": 4,
   "metadata": {},
   "outputs": [],
   "source": [
    "x = torch.tensor(-0.1, requires_grad=True)"
   ]
  },
  {
   "cell_type": "code",
   "execution_count": 5,
   "metadata": {},
   "outputs": [
    {
     "data": {
      "text/plain": [
       "tensor(0.0397)"
      ]
     },
     "execution_count": 5,
     "metadata": {},
     "output_type": "execute_result"
    }
   ],
   "source": [
    "y = normpdf(x)\n",
    "y.backward()\n",
    "x.grad"
   ]
  },
  {
   "cell_type": "code",
   "execution_count": 6,
   "metadata": {},
   "outputs": [
    {
     "data": {
      "text/plain": [
       "True"
      ]
     },
     "execution_count": 6,
     "metadata": {},
     "output_type": "execute_result"
    }
   ],
   "source": [
    "isinstance(x, torch.Tensor)"
   ]
  },
  {
   "cell_type": "code",
   "execution_count": 7,
   "metadata": {},
   "outputs": [],
   "source": [
    "def ptilde(x):\n",
    "    return 0.3 * normpdf(x, mean=torch.tensor(4.0), scale=torch.tensor(1.0)) + 0.7 * normpdf(x, mean=torch.tensor(7.0), scale=torch.tensor(1.0))"
   ]
  },
  {
   "cell_type": "code",
   "execution_count": 8,
   "metadata": {
    "scrolled": true
   },
   "outputs": [
    {
     "data": {
      "text/plain": [
       "tensor(-0.0221)"
      ]
     },
     "execution_count": 8,
     "metadata": {},
     "output_type": "execute_result"
    }
   ],
   "source": [
    "x = torch.tensor(4.5, requires_grad=True)\n",
    "y = ptilde(x)\n",
    "y.backward()\n",
    "x.grad"
   ]
  },
  {
   "cell_type": "code",
   "execution_count": 9,
   "metadata": {},
   "outputs": [],
   "source": [
    "x = th.tensor(np.linspace(0, 10, num=100))"
   ]
  },
  {
   "cell_type": "code",
   "execution_count": 10,
   "metadata": {
    "scrolled": true
   },
   "outputs": [],
   "source": [
    "y = x.clone().apply_(ptilde)"
   ]
  },
  {
   "cell_type": "code",
   "execution_count": 11,
   "metadata": {
    "scrolled": true
   },
   "outputs": [
    {
     "data": {
      "text/plain": [
       "[<matplotlib.lines.Line2D at 0x22e9fe1a7c8>]"
      ]
     },
     "execution_count": 11,
     "metadata": {},
     "output_type": "execute_result"
    },
    {
     "data": {
      "image/png": "[encoded data removed]",
      "text/plain": [
       "<Figure size 432x288 with 1 Axes>"
      ]
     },
     "metadata": {
      "needs_background": "light"
     },
     "output_type": "display_data"
    }
   ],
   "source": [
    "plt.plot(np.array(x), np.array(y))"
   ]
  },
  {
   "cell_type": "markdown",
   "metadata": {},
   "source": [
    "## leapfrog\n",
    "\n",
    "\\begin{align}\n",
    "\\widehat{r}(t+\\epsilon / 2) & = \\widehat{r}(t) - \\frac{\\epsilon}{2}\\frac{\\partial E}{\\partial z}(\\widehat{z}(t))\\\\\n",
    "\\widehat{z}(t+\\epsilon / 2) & = \\widehat{z}(t) + \\epsilon \\widehat{r}(t+\\epsilon / 2)\\\\\n",
    "\\widehat{r}(t+\\epsilon) & = \\widehat{r}(t+\\epsilon / 2) - \\frac{\\epsilon}{2}\\frac{\\partial E}{\\partial z}(\\widehat{z}(t+\\epsilon))\n",
    "\\end{align}"
   ]
  },
  {
   "cell_type": "code",
   "execution_count": 12,
   "metadata": {},
   "outputs": [],
   "source": [
    "import random\n",
    "from random import randint\n",
    "def leapfrog(z, r, e=torch.tensor(0.001), L=100):\n",
    "    if randint(1,2) == 1:\n",
    "        e = -e\n",
    "    l = L * 0.2\n",
    "    L += int(random.random() * l)\n",
    "    for _ in range(L):\n",
    "        z.requires_grad_(True)\n",
    "        E = -torch.log(ptilde(z))\n",
    "        E.backward()\n",
    "        #print(z.grad)\n",
    "        with torch.no_grad():\n",
    "            rhalf = r - 0.5 * e * z.grad\n",
    "            znext = z + e * rhalf\n",
    "        #print(znext)\n",
    "        znext.requires_grad_(True)\n",
    "        E2 = -torch.log(ptilde(znext))\n",
    "        E2.backward()\n",
    "        #print(znext.grad)\n",
    "        with torch.no_grad():\n",
    "            rnext = rhalf - 0.5 * e * znext.grad\n",
    "            z = znext\n",
    "            r = rnext\n",
    "    return z, r"
   ]
  },
  {
   "cell_type": "code",
   "execution_count": 13,
   "metadata": {},
   "outputs": [],
   "source": [
    "def Hamilton(z, r):\n",
    "    def E(z):\n",
    "        return -torch.log(ptilde(z))\n",
    "    def K(r):\n",
    "        return 0.5 * r ** 2\n",
    "    return E(z) + K(r)"
   ]
  },
  {
   "cell_type": "code",
   "execution_count": 14,
   "metadata": {},
   "outputs": [
    {
     "name": "stdout",
     "output_type": "stream",
     "text": [
      "tensor(2.2238, grad_fn=<AddBackward0>)\n",
      "tensor(3.8413, requires_grad=True) tensor(-0.5454)\n",
      "tensor(2.2682, grad_fn=<AddBackward0>)\n"
     ]
    }
   ],
   "source": [
    "z = torch.tensor(5.0, requires_grad=True)\n",
    "r = torch.tensor(0.2, requires_grad=True)\n",
    "print(Hamilton(z, r))\n",
    "zn, rn = leapfrog(z, r, e=torch.tensor(0.1), L=100)\n",
    "print(zn, rn)\n",
    "print(Hamilton(zn, rn))"
   ]
  },
  {
   "cell_type": "code",
   "execution_count": 15,
   "metadata": {},
   "outputs": [
    {
     "data": {
      "text/plain": [
       "0.8826598409480991"
      ]
     },
     "execution_count": 15,
     "metadata": {},
     "output_type": "execute_result"
    }
   ],
   "source": [
    "random.random()"
   ]
  },
  {
   "cell_type": "code",
   "execution_count": 16,
   "metadata": {},
   "outputs": [],
   "source": [
    "def hmc1():\n",
    "    n = 5000\n",
    "    zs = []\n",
    "    rs = []\n",
    "    z0 = torch.tensor(4.0)\n",
    "    for _ in range(n):\n",
    "        r0 = torch.randn(1)\n",
    "        zn, rn = leapfrog(z0, r0, e=torch.tensor(0.25), L=10)\n",
    "        nH = Hamilton(zn, rn)\n",
    "        oH = Hamilton(z0, r0)\n",
    "        if random.random() <= torch.exp(-nH - (-oH)):\n",
    "            z0 = zn\n",
    "        zs.append(z0.item())\n",
    "\n",
    "    _ = hist(zs, bins=150)"
   ]
  },
  {
   "cell_type": "code",
   "execution_count": 17,
   "metadata": {},
   "outputs": [],
   "source": [
    "def leapfrog2(z, r, e=torch.tensor(0.001), L=100):\n",
    "    if randint(1,2) == 1:\n",
    "        e = -e\n",
    "    z.requires_grad_(True)\n",
    "    E = -torch.log(ptilde(z))\n",
    "    E.backward()\n",
    "    #print(z.grad)\n",
    "    rhalf = r - 0.5 * e * z.grad\n",
    "    rnext = rhalf\n",
    "    znext = z\n",
    "\n",
    "    for _ in range(L):\n",
    "        with torch.no_grad():\n",
    "            znext = znext + e * rnext\n",
    "        #print(znext)\n",
    "        znext.requires_grad_(True)\n",
    "        E2 = -torch.log(ptilde(znext))\n",
    "        E2.backward()\n",
    "        #print(znext.grad)\n",
    "        with torch.no_grad():\n",
    "            rnext = rnext - e * znext.grad\n",
    "\n",
    "    with torch.no_grad():\n",
    "        rnext = rnext + 0.5 * e * znext.grad\n",
    "\n",
    "    return znext, rnext"
   ]
  },
  {
   "cell_type": "code",
   "execution_count": 18,
   "metadata": {},
   "outputs": [],
   "source": [
    "def hmc2():\n",
    "    n = 5000\n",
    "    zs = []\n",
    "    rs = []\n",
    "    z0 = torch.tensor(4.0)\n",
    "    for _ in range(n):\n",
    "        r0 = torch.randn(1)\n",
    "        zn, rn = leapfrog2(z0, r0, e=torch.tensor(0.15), L=20)\n",
    "        nH = Hamilton(zn, rn)\n",
    "        oH = Hamilton(z0, r0)\n",
    "        if random.random() <= torch.exp(-nH - (-oH)):\n",
    "            z0 = zn\n",
    "        zs.append(z0.item())\n",
    "\n",
    "    _ = hist(zs, bins=150)"
   ]
  },
  {
   "cell_type": "markdown",
   "metadata": {},
   "source": [
    "## Metropolis"
   ]
  },
  {
   "cell_type": "code",
   "execution_count": 19,
   "metadata": {},
   "outputs": [],
   "source": [
    "import scipy as sci"
   ]
  },
  {
   "cell_type": "code",
   "execution_count": 20,
   "metadata": {},
   "outputs": [],
   "source": [
    "norm = sci.random.normal(4, 2)"
   ]
  },
  {
   "cell_type": "code",
   "execution_count": 21,
   "metadata": {},
   "outputs": [],
   "source": [
    "def metropolis():\n",
    "    n = 5000\n",
    "    xs = []\n",
    "    x0 = 5\n",
    "    for _ in range(n):\n",
    "        q = sci.random.normal(x0, scale=1.)\n",
    "        A = min(1, ptilde(q)/ptilde(x0))\n",
    "        u = random.random()\n",
    "        if u <= A:\n",
    "            x0 = q\n",
    "        xs.append(x0)\n",
    "\n",
    "    _ = hist(xs, bins=150)"
   ]
  },
  {
   "cell_type": "markdown",
   "metadata": {},
   "source": [
    "## PyMC3"
   ]
  },
  {
   "cell_type": "code",
   "execution_count": 22,
   "metadata": {},
   "outputs": [
    {
     "name": "stderr",
     "output_type": "stream",
     "text": [
      "WARNING (theano.tensor.blas): Using NumPy C-API based implementation for BLAS functions.\n"
     ]
    }
   ],
   "source": [
    "import numpy as np\n",
    "import matplotlib.pyplot as plt\n",
    "from matplotlib.pyplot import hist\n",
    "import seaborn as sb\n",
    "import pandas as pd\n",
    "import pymc3 as pm\n",
    "\n",
    "%matplotlib inline"
   ]
  },
  {
   "cell_type": "code",
   "execution_count": 23,
   "metadata": {},
   "outputs": [],
   "source": [
    "import math"
   ]
  },
  {
   "cell_type": "code",
   "execution_count": 24,
   "metadata": {},
   "outputs": [],
   "source": [
    "def logptilde2(x):\n",
    "    return np.log(ptilde2(x))"
   ]
  },
  {
   "cell_type": "code",
   "execution_count": 25,
   "metadata": {},
   "outputs": [],
   "source": [
    "def normpdf2(x, mean=0.0, scale=1.):\n",
    "    e = -(x - mean)**2. / (2. * scale**2)\n",
    "    return np.exp(e) / (np.sqrt(2 * math.pi) * scale)"
   ]
  },
  {
   "cell_type": "code",
   "execution_count": 26,
   "metadata": {},
   "outputs": [],
   "source": [
    "def ptilde2(x):\n",
    "    return 0.3 * normpdf2(x, mean=4.0, scale=1.0) + 0.7 * normpdf2(x, mean=7.0, scale=1.0)"
   ]
  },
  {
   "cell_type": "code",
   "execution_count": 27,
   "metadata": {},
   "outputs": [],
   "source": [
    "def pymc3_hmc():\n",
    "    model = pm.Model()\n",
    "    with model:\n",
    "        dist = pm.DensityDist('ptilde_dist', logptilde2)\n",
    "    with model:\n",
    "        step = pm.HamiltonianMC()\n",
    "        trace = pm.sample(draws=5000, step=step, chains=2, return_inferencedata=False)\n",
    "\n",
    "    #pm.summary(trace)\n",
    "\n",
    "    _ = hist(trace['ptilde_dist'], bins=150)"
   ]
  },
  {
   "cell_type": "markdown",
   "metadata": {},
   "source": [
    "## Gradient of log probability"
   ]
  },
  {
   "cell_type": "code",
   "execution_count": 28,
   "metadata": {},
   "outputs": [],
   "source": [
    "xs = np.linspace(0, 10, 200)"
   ]
  },
  {
   "cell_type": "code",
   "execution_count": 29,
   "metadata": {},
   "outputs": [],
   "source": [
    "dy = []\n",
    "for x in xs:\n",
    "    x = torch.tensor(x, requires_grad=True)\n",
    "    E = torch.log(ptilde(x))\n",
    "    E.backward()\n",
    "    dy.append(x.grad)\n"
   ]
  },
  {
   "cell_type": "code",
   "execution_count": 30,
   "metadata": {},
   "outputs": [
    {
     "data": {
      "text/plain": [
       "[<matplotlib.lines.Line2D at 0x22eab55afc8>]"
      ]
     },
     "execution_count": 30,
     "metadata": {},
     "output_type": "execute_result"
    },
    {
     "data": {
      "image/png": "[encoded data removed]",
      "text/plain": [
       "<Figure size 432x288 with 1 Axes>"
      ]
     },
     "metadata": {
      "needs_background": "light"
     },
     "output_type": "display_data"
    }
   ],
   "source": [
    "plt.plot(xs, dy)"
   ]
  },
  {
   "cell_type": "code",
   "execution_count": 31,
   "metadata": {},
   "outputs": [],
   "source": [
    "xs = np.linspace(0, 10, 200)\n",
    "ys = np.linspace(-4, 4, 200)\n",
    "xx, yy = np.meshgrid(xs, ys)\n",
    "#xx = xx.reshape(-1)\n",
    "#yy = yy.reshape(-1)\n",
    "#xx.shape, yy.shape"
   ]
  },
  {
   "cell_type": "code",
   "execution_count": 32,
   "metadata": {},
   "outputs": [],
   "source": [
    "def gmptilde(x, y):\n",
    "    return np.exp(-Hamilton2(x, y))"
   ]
  },
  {
   "cell_type": "code",
   "execution_count": 33,
   "metadata": {},
   "outputs": [],
   "source": [
    "def Hamilton2(z, r):\n",
    "    def E(z):\n",
    "        return -np.log(ptilde2(z))\n",
    "    def K(r):\n",
    "        return 0.5 * r ** 2\n",
    "    return E(z) + K(r)"
   ]
  },
  {
   "cell_type": "code",
   "execution_count": 34,
   "metadata": {},
   "outputs": [
    {
     "name": "stderr",
     "output_type": "stream",
     "text": [
      "D:\\Anaconda3\\envs\\paper\\lib\\site-packages\\ipykernel_launcher.py:1: DeprecationWarning: `np.float` is a deprecated alias for the builtin `float`. To silence this warning, use `float` by itself. Doing this will not modify any behavior and is safe. If you specifically wanted the numpy scalar type, use `np.float64` here.\n",
      "Deprecated in NumPy 1.20; for more details and guidance: https://numpy.org/devdocs/release/1.20.0-notes.html#deprecations\n",
      "  \"\"\"Entry point for launching an IPython kernel.\n"
     ]
    }
   ],
   "source": [
    "zs = np.zeros((200, 200), dtype=np.float)\n",
    "for i in range(200):\n",
    "    for j in range(200):\n",
    "        zs[i, j] = gmptilde(xx[i,j], yy[i,j])"
   ]
  },
  {
   "cell_type": "code",
   "execution_count": 35,
   "metadata": {},
   "outputs": [
    {
     "data": {
      "text/plain": [
       "(0.2805620888736207, 1.3468513913412603e-08)"
      ]
     },
     "execution_count": 35,
     "metadata": {},
     "output_type": "execute_result"
    }
   ],
   "source": [
    "np.max(zs), np.min(zs)"
   ]
  },
  {
   "cell_type": "code",
   "execution_count": 36,
   "metadata": {},
   "outputs": [],
   "source": [
    "from matplotlib.pyplot import contour"
   ]
  },
  {
   "cell_type": "code",
   "execution_count": 37,
   "metadata": {},
   "outputs": [
    {
     "data": {
      "text/plain": [
       "<matplotlib.contour.QuadContourSet at 0x22eab5e1bc8>"
      ]
     },
     "execution_count": 37,
     "metadata": {},
     "output_type": "execute_result"
    },
    {
     "data": {
      "image/png": "[encoded data removed]",
      "text/plain": [
       "<Figure size 432x288 with 1 Axes>"
      ]
     },
     "metadata": {
      "needs_background": "light"
     },
     "output_type": "display_data"
    }
   ],
   "source": [
    "levels = np.arange(0,0.3,0.015)\n",
    "contour(xx, yy, zs, levels=levels)"
   ]
  },
  {
   "cell_type": "markdown",
   "metadata": {},
   "source": [
    "## Animation"
   ]
  },
  {
   "cell_type": "code",
   "execution_count": 38,
   "metadata": {},
   "outputs": [],
   "source": [
    "import numpy as np\n",
    "import matplotlib.pyplot as plt\n",
    "import scipy.stats as ss\n",
    "from matplotlib.animation import FuncAnimation\n",
    "from matplotlib import rc\n",
    "\n",
    "rc('animation', html='html5')\n"
   ]
  },
  {
   "cell_type": "code",
   "execution_count": 39,
   "metadata": {},
   "outputs": [],
   "source": [
    "def leapfrog3(z, r, e=torch.tensor(0.001), L=100):\n",
    "    if randint(1,2) == 1:\n",
    "        e = -e\n",
    "    z.requires_grad_(True)\n",
    "    E = -torch.log(ptilde(z))\n",
    "    E.backward()\n",
    "    #print(z.grad)\n",
    "    rhalf = r - 0.5 * e * z.grad\n",
    "    rnext = rhalf\n",
    "    znext = z\n",
    "\n",
    "    for _ in range(L):\n",
    "        with torch.no_grad():\n",
    "            znext = znext + e * rnext\n",
    "        #print(znext)\n",
    "        znext.requires_grad_(True)\n",
    "        E2 = -torch.log(ptilde(znext))\n",
    "        E2.backward()\n",
    "        #print(znext.grad)\n",
    "        with torch.no_grad():\n",
    "            rnext = rnext - e * znext.grad\n",
    "        yield (znext, rnext)\n",
    "\n",
    "    with torch.no_grad():\n",
    "        rnext = rnext + 0.5 * e * znext.grad\n",
    "\n",
    "    yield znext, rnext"
   ]
  },
  {
   "cell_type": "code",
   "execution_count": 40,
   "metadata": {},
   "outputs": [],
   "source": [
    "class Traj(object):\n",
    "    def __init__(self, ax, z0=1.0):\n",
    "        self.ax = ax\n",
    "        self.line, = self.ax.plot([],[],'k.')\n",
    "        \n",
    "        self.ax.set_xlim(0, 10)\n",
    "        self.ax.set_ylim(-4, 4)\n",
    "        self.zs = []\n",
    "        self.rs = []\n",
    "        self.z0 = torch.tensor(z0)\n",
    "    def _update(self):\n",
    "        self.zs = []\n",
    "        self.rs = []\n",
    "        r0 = torch.randn(1)\n",
    "        for zn, rn in leapfrog3(self.z0, r0, e=torch.tensor(0.15), L=20):\n",
    "            self.zs.append(zn)\n",
    "            self.rs.append(rn)\n",
    "        nH = Hamilton(zn, rn)\n",
    "        oH = Hamilton(self.z0, r0)\n",
    "        if random.random() <= torch.exp(-nH - (-oH)):\n",
    "            self.z0 = zn\n",
    "\n",
    "    def init(self):\n",
    "        self._update()\n",
    "        return self.line,\n",
    "    def __call__(self, i):\n",
    "        if i == 0:\n",
    "            return self.init()\n",
    "        if i % 20 == 0:\n",
    "            self._update()\n",
    "\n",
    "        self.line.set_data(self.zs[:i%20], self.rs[:i%20])\n",
    "        return self.line,\n"
   ]
  },
  {
   "cell_type": "code",
   "execution_count": 41,
   "metadata": {},
   "outputs": [],
   "source": [
    "%%capture\n",
    "fig, ax = plt.subplots()\n",
    "levels = np.arange(0,0.3,0.015)\n",
    "ax.contour(xx, yy, zs, levels=levels)\n",
    "traj = Traj(ax, 4.0)\n",
    "anim = FuncAnimation(fig, traj, frames=np.arange(200), init_func=traj.init, interval=200, blit=True)"
   ]
  },
  {
   "cell_type": "code",
   "execution_count": 44,
   "metadata": {},
   "outputs": [
    {
     "name": "stderr",
     "output_type": "stream",
     "text": [
      "Multiprocess sampling (2 chains in 4 jobs)\n",
      "HamiltonianMC: [ptilde_dist]\n"
     ]
    },
    {
     "data": {
      "text/html": [
       "\n",
       "    <div>\n",
       "        <style>\n",
       "            /* Turns off some styling */\n",
       "            progress {\n",
       "                /* gets rid of default border in Firefox and Opera. */\n",
       "                border: none;\n",
       "                /* Needs to be in here for Safari polyfill so background images work as expected. */\n",
       "                background-size: auto;\n",
       "            }\n",
       "            .progress-bar-interrupted, .progress-bar-interrupted::-webkit-progress-bar {\n",
       "                background: #F44336;\n",
       "            }\n",
       "        </style>\n",
       "      <progress value='12000' class='' max='12000' style='width:300px; height:20px; vertical-align: middle;'></progress>\n",
       "      100.00% [12000/12000 00:02<00:00 Sampling 2 chains, 0 divergences]\n",
       "    </div>\n",
       "    "
      ],
      "text/plain": [
       "<IPython.core.display.HTML object>"
      ]
     },
     "metadata": {},
     "output_type": "display_data"
    },
    {
     "name": "stderr",
     "output_type": "stream",
     "text": [
      "Sampling 2 chains for 1_000 tune and 5_000 draw iterations (2_000 + 10_000 draws total) took 11 seconds.\n"
     ]
    },
    {
     "data": {
      "image/png": "[encoded data removed]",
      "text/plain": [
       "<Figure size 432x288 with 1 Axes>"
      ]
     },
     "metadata": {
      "needs_background": "light"
     },
     "output_type": "display_data"
    }
   ],
   "source": [
    "pymc3_hmc()"
   ]
  },
  {
   "cell_type": "code",
   "execution_count": 45,
   "metadata": {},
   "outputs": [
    {
     "data": {
      "image/png": "[encoded data removed]",
      "text/plain": [
       "<Figure size 432x288 with 1 Axes>"
      ]
     },
     "metadata": {
      "needs_background": "light"
     },
     "output_type": "display_data"
    }
   ],
   "source": [
    "hmc2()"
   ]
  },
  {
   "cell_type": "code",
   "execution_count": 46,
   "metadata": {},
   "outputs": [
    {
     "data": {
      "image/png": "[encoded data removed]",
      "text/plain": [
       "<Figure size 432x288 with 1 Axes>"
      ]
     },
     "metadata": {
      "needs_background": "light"
     },
     "output_type": "display_data"
    }
   ],
   "source": [
    "metropolis()"
   ]
  },
  {
   "cell_type": "code",
   "execution_count": null,
   "metadata": {},
   "outputs": [],
   "source": []
  }
 ],
 "metadata": {
  "kernelspec": {
   "display_name": "Python 3 (ipykernel)",
   "language": "python",
   "name": "python3"
  },
  "language_info": {
   "codemirror_mode": {
    "name": "ipython",
    "version": 3
   },
   "file_extension": ".py",
   "mimetype": "text/x-python",
   "name": "python",
   "nbconvert_exporter": "python",
   "pygments_lexer": "ipython3",
   "version": "3.7.11"
  }
 },
 "nbformat": 4,
 "nbformat_minor": 4
}
