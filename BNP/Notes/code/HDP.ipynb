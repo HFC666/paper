{
 "cells": [
  {
   "cell_type": "code",
   "execution_count": 1,
   "id": "eec21fc4-ecb2-4761-a4e7-222da02e0169",
   "metadata": {},
   "outputs": [],
   "source": [
    "import numpy as np\n",
    "import pandas as pd\n",
    "import matplotlib.pyplot as plt\n",
    "from scipy.stats import dirichlet"
   ]
  },
  {
   "cell_type": "code",
   "execution_count": 2,
   "id": "a48754bb-36aa-4840-8010-4b42bf8498ee",
   "metadata": {},
   "outputs": [
    {
     "name": "stdout",
     "output_type": "stream",
     "text": [
      "alpha: 0.1\n",
      "element-wise mean: [0.20311562 0.20031079 0.59657359]\n",
      "element-wise standard deviation: [0.38405501 0.3818027  0.46776962]\n",
      "\n",
      "alpha: 1\n",
      "element-wise mean: [0.19642171 0.20004305 0.60353524]\n",
      "element-wise standard deviation: [0.2813996  0.28373089 0.34582903]\n",
      "\n",
      "alpha: 10\n",
      "element-wise mean: [0.20098857 0.20016258 0.59884885]\n",
      "element-wise standard deviation: [0.12068844 0.12058941 0.14764562]\n",
      "\n",
      "alpha: 100\n",
      "element-wise mean: [0.20043343 0.19999537 0.5995712 ]\n",
      "element-wise standard deviation: [0.03984595 0.04000012 0.04901238]\n",
      "\n",
      "alpha: 1000\n",
      "element-wise mean: [0.20013325 0.19980602 0.60006073]\n",
      "element-wise standard deviation: [0.01259172 0.01272202 0.01544714]\n",
      "\n"
     ]
    }
   ],
   "source": [
    "def stats(scale_factor, G0 = [0.2, 0.2, 0.6], N=10000):\n",
    "    samples = dirichlet(alpha=scale_factor*np.array(G0)).rvs(N)\n",
    "    print(\"alpha:\", scale_factor)\n",
    "    print(\"element-wise mean:\", samples.mean(axis=0))\n",
    "    print(\"element-wise standard deviation:\", samples.std(axis=0))\n",
    "    print()\n",
    "\n",
    "for scale in [0.1, 1, 10, 100, 1000]:\n",
    "    stats(scale)"
   ]
  },
  {
   "cell_type": "code",
   "execution_count": 3,
   "id": "7e1a2359-f2cc-4cb4-8685-b1c114443a1d",
   "metadata": {},
   "outputs": [],
   "source": [
    "from scipy.stats import beta, norm"
   ]
  },
  {
   "cell_type": "code",
   "execution_count": null,
   "id": "ed8dd857-bc34-4b80-80ae-7ecf3449dfaa",
   "metadata": {},
   "outputs": [],
   "source": [
    "def dirichlet_sample_approximation(base_measure, alpha, tol=0.01):\n",
    "    betas = []\n",
    "    pis = []\n",
    "    betas.append(beta(1, alpha).rvs())\n",
    "    pis.append(betas[0])\n",
    "    \n",
    "    while sum(pis) < (1.-tol):\n",
    "        "
   ]
  }
 ],
 "metadata": {
  "kernelspec": {
   "display_name": "Python 3 (ipykernel)",
   "language": "python",
   "name": "python3"
  },
  "language_info": {
   "codemirror_mode": {
    "name": "ipython",
    "version": 3
   },
   "file_extension": ".py",
   "mimetype": "text/x-python",
   "name": "python",
   "nbconvert_exporter": "python",
   "pygments_lexer": "ipython3",
   "version": "3.10.9"
  }
 },
 "nbformat": 4,
 "nbformat_minor": 5
}
