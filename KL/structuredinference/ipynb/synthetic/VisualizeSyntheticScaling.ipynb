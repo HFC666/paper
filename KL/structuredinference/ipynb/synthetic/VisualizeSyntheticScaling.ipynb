{
 "cells": [
  {
   "cell_type": "markdown",
   "metadata": {},
   "source": [
    "Visualize the scalability as a function of dimension in the linear case"
   ]
  },
  {
   "cell_type": "code",
   "execution_count": 6,
   "metadata": {
    "collapsed": false
   },
   "outputs": [
    {
     "name": "stdout",
     "output_type": "stream",
     "text": [
      "Found:  /data/ml2/rahul/theanomodels/datasets/synthetic//synthetic18.h5\n",
      "Found:  /data/ml2/rahul/theanomodels/datasets/synthetic//synthetic19.h5\n",
      "Found:  /data/ml2/rahul/theanomodels/datasets/synthetic//synthetic20.h5\n"
     ]
    }
   ],
   "source": [
    "import numpy as np\n",
    "%matplotlib inline  \n",
    "import glob,h5py,os,re\n",
    "import matplotlib.pyplot as plt\n",
    "import matplotlib as mpl\n",
    "mpl.rcParams['lines.linewidth']=2.5\n",
    "mpl.rcParams['lines.markersize']=8\n",
    "mpl.rcParams['text.usetex']=True\n",
    "mpl.rcParams['text.latex.unicode']=True\n",
    "mpl.rcParams['font.family'] = 'serif'\n",
    "mpl.rcParams['font.serif'] = 'Times New Roman'\n",
    "mpl.rcParams['text.latex.preamble']= ['\\usepackage{amsfonts}','\\usepackage{amsmath}']\n",
    "mpl.rcParams['font.size'] = 20\n",
    "mpl.rcParams['axes.labelsize']=20\n",
    "mpl.rcParams['legend.fontsize']=20\n",
    "#http://stackoverflow.com/questions/22408237/named-colors-in-matplotlib\n",
    "import cPickle as pickle\n",
    "from datasets.synthp import params_synthetic\n",
    "from utils.misc import getPYDIR,getConfigFile,readPickle, loadHDF5\n",
    "\n",
    "#visualize synthetic results\n",
    "def getCode(f):\n",
    "    params  =  readPickle(getConfigFile(f))[0]\n",
    "    code    = params['inference_model']+'-'+params['var_model']\n",
    "    code    = code.replace('structured','ST').replace('mean_field','MF')\n",
    "    return code\n",
    "results = {}\n",
    "results[10] = {}\n",
    "results[10]['name']     = 'synthetic15'\n",
    "results[10]['maxEPOCH'] = 200\n",
    "results[10]['dim']      = 10\n",
    "results[100] = {}\n",
    "results[100]['name']     = 'synthetic16'\n",
    "results[100]['maxEPOCH'] = 200\n",
    "results[100]['dim']      = 100\n",
    "results[250] = {}\n",
    "results[250]['name']     = 'synthetic27'\n",
    "results[250]['maxEPOCH'] = 200\n",
    "results[250]['dim']      = 250\n",
    "\n",
    "ntrainlist = [10,100,1000]\n",
    "SAVEDIR = '../../expt-synthetic-fast/chkpt-'\n",
    "\n",
    "DATADIR = getPYDIR()+'/datasets/synthetic/'\n",
    "\n",
    "baselines = {}\n",
    "for dset in results:\n",
    "    bline = '../../expt-synthetic-fast/baselines/'+results[dset]['name']+'-baseline.h5'\n",
    "    if os.path.exists(bline):\n",
    "        bb = loadHDF5(bline)\n",
    "        print bb.keys()\n",
    "    else:\n",
    "        bb = None\n",
    "    baselines[dset] = bb\n",
    "\n",
    "\n",
    "from datasets.load import loadDataset\n",
    "datasets = {}\n",
    "dset_params = {}\n",
    "for dset in results: \n",
    "    datasets[dset]    = loadDataset(results[dset]['name'])\n",
    "    dset_params[dset] = params_synthetic[results[dset]['name']]"
   ]
  },
  {
   "cell_type": "code",
   "execution_count": 9,
   "metadata": {
    "collapsed": false
   },
   "outputs": [
    {
     "name": "stdout",
     "output_type": "stream",
     "text": [
      "10 10 (500, 25, 10) (500, 25, 10)\n",
      "0.981814049597\n",
      "100 10 (500, 25, 10) (500, 25, 10)\n",
      "0.981765100916\n",
      "1000 10 (500, 25, 10) (500, 25, 10)\n",
      "0.981760031913\n",
      "10 100 (500, 25, 100) (500, 25, 100)\n",
      "0.983456427193\n",
      "1000 100 (500, 25, 100) (500, 25, 100)\n",
      "0.983420357791\n",
      "100 100 (500, 25, 100) (500, 25, 100)\n",
      "0.983437612098\n",
      "100 250 (500, 25, 250) (500, 25, 250)\n",
      "0.982943434674\n",
      "10 250 (500, 25, 250) (500, 25, 250)\n",
      "0.982955749653\n",
      "1000 250 (500, 25, 250) (500, 25, 250)\n",
      "0.982936344814\n",
      "9  ignored\n"
     ]
    }
   ],
   "source": [
    "#Visualizing epoch\n",
    "getepoch = re.compile(\"-EP(.*)-\")\n",
    "\n",
    "def estimateMSE(mu_posterior, true_z):\n",
    "    err_sum = np.square(mu_posterior-true_z).sum()\n",
    "    return np.sqrt(np.square(mu_posterior-true_z.squeeze()).mean())\n",
    "\n",
    "final_result = {}\n",
    "ignored = 0\n",
    "for dset in results:\n",
    "    DIR = SAVEDIR+results[dset]['name']+'/'\n",
    "    for f in glob.glob(DIR+'*-final.h5'):\n",
    "        code = getCode(f)\n",
    "        if code!='ST-R':\n",
    "            ignored +=1\n",
    "            continue\n",
    "        params  = readPickle(getConfigFile(f))[0]\n",
    "        Ntrain, dimstoc =  params['ntrain'],results[dset]['dim']\n",
    "        alldata = loadHDF5(f)\n",
    "        #print f,alldata.keys()\n",
    "        valid_mus= alldata['mu_posterior_valid'][-1]\n",
    "        valid_zs = datasets[dimstoc]['valid_z']\n",
    "        print Ntrain,dimstoc,  valid_mus.shape, valid_zs.shape\n",
    "        rmse_train = estimateMSE(valid_mus,valid_zs)\n",
    "        print rmse_train\n",
    "        final_result['dim'+str(dimstoc)+'ntrain'+str(Ntrain)]= rmse_train\n",
    "print ignored,' ignored'"
   ]
  },
  {
   "cell_type": "code",
   "execution_count": 10,
   "metadata": {
    "collapsed": false
   },
   "outputs": [
    {
     "data": {
      "text/plain": [
       "(0, 6)"
      ]
     },
     "execution_count": 10,
     "metadata": {},
     "output_type": "execute_result"
    },
    {
     "data": {
      "image/png": "[encoded data removed]",
      "text/plain": [
       "<matplotlib.figure.Figure at 0x424b1d0>"
      ]
     },
     "metadata": {},
     "output_type": "display_data"
    }
   ],
   "source": [
    "N = 3\n",
    "ind = np.arange(N)  # the x locations for the groups\n",
    "width = 0.9       # the width of the bars\n",
    "\n",
    "fig, ax = plt.subplots()\n",
    "train10 = (final_result['dim10ntrain10'], final_result['dim100ntrain10'], final_result['dim250ntrain10'])\n",
    "rects1 = ax.bar(ind, train10, width/4, color='r', hatch=\"/\")\n",
    "\n",
    "train100 = (final_result['dim10ntrain100'], final_result['dim100ntrain100'], final_result['dim250ntrain100'])\n",
    "rects2 = ax.bar(ind + width/4, train100, width/4, color='b', hatch=\"\\\\\")\n",
    "\n",
    "train1000 = (final_result['dim10ntrain1000'], final_result['dim100ntrain1000'], final_result['dim250ntrain1000'])\n",
    "rects3 = ax.bar(ind + 2*width/4, train1000, width/4, color='g', hatch=\"*\")\n",
    "\n",
    "if baselines[10] is None:\n",
    "    KF = (0,0,0)\n",
    "else:\n",
    "    KF = (baselines[10]['valid_rmse'].sum(), baselines[100]['valid_rmse'].sum(), baselines[250]['valid_rmse'].sum())\n",
    "rects4 = ax.bar(ind + 3*width/4, KF, width/4, color='y', hatch=\"//\")\n",
    "\n",
    "# add some text for labels, title and axes ticks\n",
    "ax.set_xlabel('Latent Dimension')\n",
    "ax.set_ylabel('RMSE')\n",
    "ax.set_xticks(ind + width/2)\n",
    "ax.set_xticklabels(('$|z|=10$', '$|z|=100$', '$|z|=250$'))\n",
    "\n",
    "ax.legend((rects1[0], rects2[0], rects3[0], rects4[0]), ('$N=10$', '$N=100$', '$N=1000$', 'KF'),\n",
    "          loc='upper center', bbox_to_anchor=(0.5, 1.3),ncol=2, frameon=False)\n",
    "def autolabel(rects):\n",
    "    # attach some text labels\n",
    "    for idx, rect in enumerate(rects):\n",
    "        height = rect.get_height()\n",
    "        ax.text(rect.get_x() + rect.get_width()/2., 1.05*height,\n",
    "                '%.1f' % height,\n",
    "                ha='center', va='bottom',size=18)\n",
    "autolabel(rects1)\n",
    "autolabel(rects2)\n",
    "autolabel(rects3)\n",
    "autolabel(rects4)\n",
    "autolabel\n",
    "plt.ylim(0,6)\n",
    "\n",
    "#plt.savefig('scaling-exact-inference.pdf',bbox_inches='tight')"
   ]
  },
  {
   "cell_type": "code",
   "execution_count": null,
   "metadata": {
    "collapsed": true
   },
   "outputs": [],
   "source": []
  }
 ],
 "metadata": {
  "kernelspec": {
   "display_name": "Python 2",
   "language": "python",
   "name": "python2"
  },
  "language_info": {
   "codemirror_mode": {
    "name": "ipython",
    "version": 2
   },
   "file_extension": ".py",
   "mimetype": "text/x-python",
   "name": "python",
   "nbconvert_exporter": "python",
   "pygments_lexer": "ipython2",
   "version": "2.7.3"
  }
 },
 "nbformat": 4,
 "nbformat_minor": 0
}
