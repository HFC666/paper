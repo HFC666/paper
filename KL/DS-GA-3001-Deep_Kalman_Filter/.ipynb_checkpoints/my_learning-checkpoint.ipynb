{
 "cells": [
  {
   "cell_type": "markdown",
   "id": "9c20ae51-9704-461f-ad28-1ccbcddeb603",
   "metadata": {},
   "source": [
    "## 导入库"
   ]
  },
  {
   "cell_type": "code",
   "execution_count": 39,
   "id": "5de8bf74-a319-460e-8a8b-6ffbb429e0e1",
   "metadata": {},
   "outputs": [],
   "source": [
    "import argparse  # argparse 模块是 Python 内置的用于命令项选项与参数解析的模块\n",
    "import torch\n",
    "import torch.utils.data\n",
    "from torch import nn, optim\n",
    "from torch.nn import functional as F\n",
    "from torchvision import datasets, transforms\n",
    "from torchvision.utils import save_image\n",
    "import numpy as np"
   ]
  },
  {
   "cell_type": "markdown",
   "id": "8f76c079-6629-426a-b933-d2924c556d34",
   "metadata": {},
   "source": [
    "## 定义训练参数"
   ]
  },
  {
   "cell_type": "code",
   "execution_count": 72,
   "id": "df1ba738-1ab3-4ba5-b363-2198d4f1aa9d",
   "metadata": {},
   "outputs": [
    {
     "data": {
      "text/plain": [
       "<torch._C.Generator at 0x198e8bdac10>"
      ]
     },
     "execution_count": 72,
     "metadata": {},
     "output_type": "execute_result"
    }
   ],
   "source": [
    "batch_size = 128\n",
    "seed = 1\n",
    "epochs = 10\n",
    "cuda = True\n",
    "log_interval = 10\n",
    "h_d = 512\n",
    "l_d = 32\n",
    "u_d = 1\n",
    "\n",
    "torch.manual_seed(seed)"
   ]
  },
  {
   "cell_type": "markdown",
   "id": "978be6f8-44c7-4dfd-acd3-eef26859a4cc",
   "metadata": {},
   "source": [
    "## 准备数据集"
   ]
  },
  {
   "cell_type": "code",
   "execution_count": 41,
   "id": "7eb2c986-f3aa-4065-9bc7-0a2db2f18c03",
   "metadata": {},
   "outputs": [],
   "source": [
    "import healing_mnist_indep"
   ]
  },
  {
   "cell_type": "code",
   "execution_count": 42,
   "id": "d72a5529-6e50-4e85-81d8-f497791420ab",
   "metadata": {},
   "outputs": [],
   "source": [
    "hmnist = healing_mnist_indep.HealingMNIST(seq_len=5, # 5 rotations of each digit\n",
    "                                          square_count=0, # 3 out of 5 images have a square added to them\n",
    "                                          square_size=5, # the square is 5x5\n",
    "                                          noise_ratio=0.15, # on average, 20% of the image is eaten by noise,\n",
    "                                          digits=range(10), # only include this digits\n",
    "                                          test = False\n",
    "                                         )"
   ]
  },
  {
   "cell_type": "code",
   "execution_count": 43,
   "id": "3c3ef118-e0b1-4ad0-b499-26fe31665ee9",
   "metadata": {},
   "outputs": [
    {
     "name": "stdout",
     "output_type": "stream",
     "text": [
      "(60000, 5, 28, 28) (60000, 5, 28, 28)\n",
      "(60000, 5)\n",
      "(10000, 5, 28, 28) (10000, 5, 28, 28)\n",
      "(10000, 5)\n"
     ]
    }
   ],
   "source": [
    "print(hmnist.train_images.shape, hmnist.train_targets.shape)\n",
    "print(hmnist.train_rotations.shape)\n",
    "print(hmnist.test_images.shape, hmnist.test_targets.shape)\n",
    "print(hmnist.test_rotations.shape)"
   ]
  },
  {
   "cell_type": "code",
   "execution_count": 44,
   "id": "c24692bd-f170-40ae-b26f-c891eef2a132",
   "metadata": {},
   "outputs": [],
   "source": [
    "import matplotlib.pyplot as plt"
   ]
  },
  {
   "cell_type": "code",
   "execution_count": 45,
   "id": "0a998542-c5a9-44ce-8470-8740b57e02af",
   "metadata": {},
   "outputs": [
    {
     "data": {
      "image/png": "[encoded data removed]",
      "text/plain": [
       "<Figure size 1500x800 with 5 Axes>"
      ]
     },
     "metadata": {},
     "output_type": "display_data"
    }
   ],
   "source": [
    "case = 4\n",
    "fig = plt.figure(figsize=(15, 8))\n",
    "for i, image in enumerate(hmnist.test_images[case]):\n",
    "    fig.add_subplot(1, 6, i+1)\n",
    "    plt.imshow(image, cmap='gray')"
   ]
  },
  {
   "cell_type": "code",
   "execution_count": 46,
   "id": "1198ccb2-4f7e-43d2-a0ce-9976daef40a5",
   "metadata": {},
   "outputs": [
    {
     "data": {
      "image/png": "[encoded data removed]",
      "text/plain": [
       "<Figure size 1500x800 with 5 Axes>"
      ]
     },
     "metadata": {},
     "output_type": "display_data"
    }
   ],
   "source": [
    "fig = plt.figure(figsize=(15,8))\n",
    "for i, image in enumerate(hmnist.test_targets[case]):\n",
    "    fig.add_subplot(1, 6, i+1)\n",
    "    plt.imshow(image,cmap='gray')"
   ]
  },
  {
   "cell_type": "markdown",
   "id": "1fd512a3-1df7-4fc3-bc4f-af2b67ae2c92",
   "metadata": {},
   "source": [
    "## 调整数据大小"
   ]
  },
  {
   "cell_type": "markdown",
   "id": "a038e2c9-f6df-48e9-9978-03aad5cea7e7",
   "metadata": {},
   "source": [
    "这一部分在不同的模型中应该不同，q-INDEP模型在数据集内完全忽略序列依赖性，因此给定噪声图片$p$和action $u$我们将数据集压平(因为当前状态只与前一个状态有关)，目标图像应该是没有噪声的，$u$为图像旋转角度。"
   ]
  },
  {
   "cell_type": "code",
   "execution_count": 47,
   "id": "d1f15356-8e31-4155-87c4-2d95c83e855e",
   "metadata": {},
   "outputs": [],
   "source": [
    "train_X = hmnist.train_images\n",
    "train_u = hmnist.train_rotations\n",
    "train_Y = hmnist.train_targets\n",
    "test_X = hmnist.test_images\n",
    "test_u = hmnist.test_rotations\n",
    "test_Y = hmnist.test_targets"
   ]
  },
  {
   "cell_type": "code",
   "execution_count": 48,
   "id": "6d6d3ae8-7f1f-4921-b059-751c18095852",
   "metadata": {},
   "outputs": [],
   "source": [
    "# 我们将数据的前两个维度压平\n",
    "train_X = train_X.reshape(-1, 28, 28)\n",
    "train_u = train_u.reshape(-1)\n",
    "train_Y = train_Y.reshape(-1, 28, 28)\n",
    "test_X = test_X.reshape(-1, 28, 28)\n",
    "test_u = test_u.reshape(-1)\n",
    "test_Y = test_Y.reshape(-1, 28, 28)"
   ]
  },
  {
   "cell_type": "code",
   "execution_count": 49,
   "id": "d9880004-64be-4c49-9d3e-73c766d85965",
   "metadata": {},
   "outputs": [],
   "source": [
    "device = torch.device(\"cuda\" if cuda else \"cpu\")"
   ]
  },
  {
   "cell_type": "markdown",
   "id": "5318f9f0-d78b-42c3-ae61-90bffd6c5051",
   "metadata": {},
   "source": [
    "## 数据集对象"
   ]
  },
  {
   "cell_type": "code",
   "execution_count": 50,
   "id": "090ac502-e005-491e-bbb2-ad2e99f7f33c",
   "metadata": {},
   "outputs": [],
   "source": [
    "class HMNISTDataSet():\n",
    "    def __init__(self, train_img, train_act, train_tar, test_img, test_act, test_tar, test=False, transform=None):\n",
    "        self.test = test\n",
    "        self.transform = transform\n",
    "        \n",
    "        if (not self.test):\n",
    "            self.images = train_img\n",
    "            self.targets = train_tar\n",
    "            self.rotations = train_act\n",
    "        else:\n",
    "            self.images = test_img\n",
    "            self.targets = test_tar\n",
    "            self.rotations = test_act\n",
    "    \n",
    "    def __len__(self):\n",
    "        return len(self.images)\n",
    "    \n",
    "    def __getitem__(self, index):\n",
    "        if self.transform is not None:\n",
    "            img = self.transform(self.images[index].reshape(28, 28, 1))\n",
    "            tar = self.transform(self.targets[index].reshape(28, 28, 1))\n",
    "            rot = torch.tensor(self.rotations[index])\n",
    "        return img, rot, tar"
   ]
  },
  {
   "cell_type": "code",
   "execution_count": 51,
   "id": "ecda9e31-2d9d-420b-840a-4a9f8890ce9a",
   "metadata": {},
   "outputs": [],
   "source": [
    "train_set = HMNISTDataSet(train_X, train_u, train_Y, test_X, test_u, test_Y, test = False, transform = transforms.ToTensor())\n",
    "test_set = HMNISTDataSet(train_X, train_u, train_Y, test_X, test_u, test_Y, test = True, transform = transforms.ToTensor())"
   ]
  },
  {
   "cell_type": "code",
   "execution_count": 52,
   "id": "d2da7dda-6870-4d8f-81f7-0bcbec295673",
   "metadata": {},
   "outputs": [],
   "source": [
    "# 创建DataLoader\n",
    "train_loader = torch.utils.data.DataLoader(train_set, batch_size=batch_size, shuffle=True)\n",
    "test_loader = torch.utils.data.DataLoader(test_set, batch_size=batch_size, shuffle=True)"
   ]
  },
  {
   "cell_type": "markdown",
   "id": "a3027edb-4dcd-48ea-a826-e04c6689e5e3",
   "metadata": {},
   "source": [
    "## 模型定义"
   ]
  },
  {
   "cell_type": "code",
   "execution_count": 66,
   "id": "16fa5041-8289-4cdd-ac0e-5e73d17477e4",
   "metadata": {},
   "outputs": [],
   "source": [
    "class VAE(nn.Module):\n",
    "    def __init__(self):\n",
    "        super(VAE, self).__init__()\n",
    "        \n",
    "        self.fc1 = nn.Linear(784, h_d)\n",
    "        self.fc2 = nn.Linear(h_d, 128)\n",
    "        self.fc21 = nn.Linear(128, l_d)\n",
    "        self.fc22 = nn.Linear(128, l_d)\n",
    "        \n",
    "        # 转移层\n",
    "        self.fct = nn.Linear(l_d + u_d, l_d)\n",
    "        self.fctm = nn.Linear(l_d, l_d)\n",
    "        self.fcts = nn.Linear(l_d, l_d)\n",
    "        \n",
    "        self.fc3 = nn.Linear(l_d, 128)\n",
    "        self.fc4 = nn.Linear(128, h_d)\n",
    "        self.fc5 = nn.Linear(h_d, 784)\n",
    "    \n",
    "    def encode(self, x):\n",
    "        # 相当于q(z|x)\n",
    "        x = x.float()\n",
    "        h1 = F.relu(self.fc1(x))\n",
    "        h2 = F.relu(self.fc2(h1))\n",
    "        return self.fc21(h2), self.fc22(h2)\n",
    "    \n",
    "    def reparameterize1(self, mu, logvar):\n",
    "        # 重参数化\n",
    "        std = torch.exp(0.5*logvar)\n",
    "        eps = torch.randn_like(std)\n",
    "        return mu + eps * std\n",
    "    \n",
    "    def transition(self, z, u):\n",
    "        z = z.float()\n",
    "        u = u.float()\n",
    "        h2 = F.relu(self.fct(torch.cat((z,u),dim=1)))\n",
    "        return self.fctm(h2), self.fcts(h2)\n",
    "    \n",
    "    def reparameterize2(self, mu, logvar):\n",
    "        std = torch.exp(0.5*logvar)\n",
    "        eps = torch.randn_like(std)\n",
    "        return mu + eps*std\n",
    "    \n",
    "    def decode(self, z):\n",
    "        z = z.float()\n",
    "        # 相当于是p(x|z)\n",
    "        h3 = F.relu(self.fc3(z))\n",
    "        h4 = F.relu(self.fc4(h3))\n",
    "        return torch.sigmoid(self.fc5(h4))\n",
    "    \n",
    "    def forward(self, x, u):\n",
    "        mu1, logvar1 = self.encode(x.view(-1, 784))\n",
    "        z1 = self.reparameterize1(mu1, logvar1)\n",
    "        mu2, logvar2 = self.transition(z1, u.reshape(-1,1))\n",
    "        z2 = self.reparameterize2(mu2, logvar2)\n",
    "        return self.decode(z2), mu2, logvar2"
   ]
  },
  {
   "cell_type": "code",
   "execution_count": 67,
   "id": "731798c0-9ea0-4ed8-957b-8566ab437578",
   "metadata": {},
   "outputs": [],
   "source": [
    "model = VAE().to(device)\n",
    "# adam优化器\n",
    "optimizer = optim.Adam(model.parameters(), lr=1e-3)"
   ]
  },
  {
   "cell_type": "markdown",
   "id": "90feb209-6b49-4914-98fb-f12c7b15c20d",
   "metadata": {},
   "source": [
    "### 损失函数"
   ]
  },
  {
   "cell_type": "code",
   "execution_count": 68,
   "id": "d1674ff4-cbd2-4ce0-be53-21206debb6c1",
   "metadata": {},
   "outputs": [],
   "source": [
    "def loss_function(recon_x, x, mu, logvar):\n",
    "    x = x.float()\n",
    "    BCE = F.binary_cross_entropy(recon_x, x.view(-1, 784), reduction='sum')\n",
    "    KLD = -0.5 * torch.sum(1 + logvar - mu.pow(2) - logvar.exp())\n",
    "    return BCE + KLD"
   ]
  },
  {
   "cell_type": "markdown",
   "id": "9961655a-8d91-493c-92d6-f6e2d145b3ce",
   "metadata": {},
   "source": [
    "## 定义训练和测试算法"
   ]
  },
  {
   "cell_type": "code",
   "execution_count": 69,
   "id": "7e36ba08-0523-4719-8f72-72c84f671085",
   "metadata": {},
   "outputs": [],
   "source": [
    "def train(epoch):\n",
    "    model.train()\n",
    "    train_loss = 0\n",
    "    for batch_idx, (img, action, target) in enumerate(train_loader):\n",
    "        img, action, target = img.to(device), action.to(device), target.to(device)\n",
    "        optimizer.zero_grad()\n",
    "        recon_batch, mu, logvar = model(img, action)\n",
    "        loss = loss_function(recon_batch, target, mu, logvar)\n",
    "        loss.backward()\n",
    "        train_loss += loss.item()\n",
    "        optimizer.step()\n",
    "    print(\"====> Epoch: {} Average loss: {:.4f}\".format(epoch, train_loss / len(train_loader.dataset)))\n",
    "    return train_loss / len(train_loader.dataset)"
   ]
  },
  {
   "cell_type": "code",
   "execution_count": 70,
   "id": "8cbb3979-5d18-4363-a055-92babce619be",
   "metadata": {},
   "outputs": [],
   "source": [
    "def test(epoch):\n",
    "    model.eval()\n",
    "    test_loss = 0\n",
    "    with torch.no_grad():\n",
    "        for i, (img, action, target) in enumerate(test_loader):\n",
    "            img, action, target = img.to(device), action.to(device), target.to(device)\n",
    "            recon_batch, mu, logvar = model(img, action)\n",
    "            test_loss += loss_function(recon_batch, target, mu, logvar).item()\n",
    "            if (epoch > 50):\n",
    "                if i == 0:\n",
    "                    n = min(img.size(0), 8)\n",
    "    test_loss /= len(test_loader.dataset)\n",
    "    print(\"====> Test set loss: {:.4f}\".format(test_loss))\n",
    "    return test_loss"
   ]
  },
  {
   "cell_type": "code",
   "execution_count": null,
   "id": "5f5c9f02-7297-496f-b747-2d945c99f10d",
   "metadata": {},
   "outputs": [],
   "source": [
    "train_losses = []\n",
    "test_losses = []\n",
    "for epoch in range(1, epochs + 1):\n",
    "    train_loss = train(epoch)\n",
    "    test_loss = test(epoch)\n",
    "    train_losses.append(train_loss)\n",
    "    test_losses.append(test_loss)"
   ]
  },
  {
   "cell_type": "code",
   "execution_count": null,
   "id": "ecdcf297-a6e1-4040-8225-b1209b8c9a26",
   "metadata": {},
   "outputs": [],
   "source": []
  }
 ],
 "metadata": {
  "kernelspec": {
   "display_name": "Python 3 (ipykernel)",
   "language": "python",
   "name": "python3"
  },
  "language_info": {
   "codemirror_mode": {
    "name": "ipython",
    "version": 3
   },
   "file_extension": ".py",
   "mimetype": "text/x-python",
   "name": "python",
   "nbconvert_exporter": "python",
   "pygments_lexer": "ipython3",
   "version": "3.7.11"
  }
 },
 "nbformat": 4,
 "nbformat_minor": 5
}
