{
 "cells": [
  {
   "cell_type": "markdown",
   "id": "fd5d03ad-84f3-45eb-93d3-7cd412e11d5e",
   "metadata": {},
   "source": [
    "## 导入库"
   ]
  },
  {
   "cell_type": "code",
   "execution_count": 1,
   "id": "14520475-b5aa-4fd5-95da-dd051756df90",
   "metadata": {},
   "outputs": [],
   "source": [
    "import argparse\n",
    "import torch\n",
    "import torch.utils.data\n",
    "from torch import nn, optim\n",
    "from torch.nn import functional as F\n",
    "from torchvision import datasets, transforms\n",
    "from torchvision.utils import save_image\n",
    "import numpy as np"
   ]
  },
  {
   "cell_type": "markdown",
   "id": "c9024aca-e374-424a-86bb-c98d4e2c9290",
   "metadata": {},
   "source": [
    "## 超参数设置"
   ]
  },
  {
   "cell_type": "code",
   "execution_count": 2,
   "id": "e257aef3-d9a0-48f3-9cb4-4d6ee684d50d",
   "metadata": {},
   "outputs": [
    {
     "data": {
      "text/plain": [
       "<torch._C.Generator at 0x1eddcb78bf0>"
      ]
     },
     "execution_count": 2,
     "metadata": {},
     "output_type": "execute_result"
    }
   ],
   "source": [
    "batch_size = 512\n",
    "seed = 1\n",
    "epochs = 10\n",
    "cuda = True\n",
    "log_interval = 10\n",
    "h_d = 512\n",
    "l_d = 32\n",
    "u_d = 1\n",
    "\n",
    "\n",
    "torch.manual_seed(seed)"
   ]
  },
  {
   "cell_type": "markdown",
   "id": "6449894e-2c6f-4778-99e0-856865bb4dba",
   "metadata": {},
   "source": [
    "## 数据"
   ]
  },
  {
   "cell_type": "code",
   "execution_count": 3,
   "id": "e00df5a1-d1e6-4e60-9de2-04c7a0755d92",
   "metadata": {},
   "outputs": [],
   "source": [
    "import vae_mnist"
   ]
  },
  {
   "cell_type": "code",
   "execution_count": 4,
   "id": "c6bf7c46-1c0b-440b-a66c-11ccdeff59bb",
   "metadata": {},
   "outputs": [],
   "source": [
    "hmnist = vae_mnist.HealingMNIST(seq_len=5, # 5 rotations of each digit\n",
    "                                          square_count=0, # 3 out of 5 images have a square added to them\n",
    "                                          square_size=5, # the square is 5x5\n",
    "                                          noise_ratio=0.10, # on average, 20% of the image is eaten by noise,\n",
    "                                          digits=range(10), # only include this digits\n",
    "                                          test = False\n",
    "                                         )"
   ]
  },
  {
   "cell_type": "code",
   "execution_count": 5,
   "id": "84d84809-375e-413c-95aa-e6ba0d6b24d2",
   "metadata": {},
   "outputs": [],
   "source": [
    "train_X = hmnist.train_images\n",
    "train_Y = hmnist.train_targets\n",
    "test_X = hmnist.test_images\n",
    "test_Y = hmnist.test_targets\n",
    "\n",
    "train_X = train_X.reshape(-1,28,28)\n",
    "train_Y = train_Y.reshape(-1,28,28)\n",
    "test_X = test_X.reshape(-1,28,28)\n",
    "test_Y = test_Y.reshape(-1,28,28)\n",
    "\n",
    "device = torch.device(\"cuda\" if cuda else \"cpu\")"
   ]
  },
  {
   "cell_type": "code",
   "execution_count": 7,
   "id": "fcf013aa-4036-4dbf-9277-18d5f3704ce8",
   "metadata": {},
   "outputs": [],
   "source": [
    "class HMNISTDataSet():\n",
    "    def __init__(self, train_img, train_tar, test_img, test_tar, test = False, transform=None):\n",
    "        self.test = test\n",
    "        self.transform = transform\n",
    "\n",
    "        if (self.test == False):\n",
    "            self.images = train_img\n",
    "            self.targets = train_tar\n",
    "\n",
    "\n",
    "        else:      \n",
    "            self.images = test_img\n",
    "            self.targets = test_tar\n",
    "\n",
    "\n",
    "    def __len__(self):\n",
    "        return len(self.images)\n",
    "    \n",
    "    def __getitem__(self, index):\n",
    "        if self.transform is not None:\n",
    "            img = self.transform(self.images[index].reshape(28,28,1))\n",
    "            tar = self.transform(self.targets[index].reshape(28,28,1))\n",
    "        return img, tar"
   ]
  },
  {
   "cell_type": "code",
   "execution_count": 8,
   "id": "9b4964e1-fbd3-4674-a2e8-7556805b3911",
   "metadata": {},
   "outputs": [],
   "source": [
    "train_set = HMNISTDataSet(train_X, train_Y, test_X, test_Y, test = False, transform = transforms.ToTensor())\n",
    "test_set = HMNISTDataSet(train_X, train_Y, test_X, test_Y, test = True, transform = transforms.ToTensor())\n",
    "\n",
    "train_loader = torch.utils.data.DataLoader(train_set, batch_size=batch_size, shuffle=True)\n",
    "test_loader = torch.utils.data.DataLoader(test_set, batch_size=batch_size, shuffle=True)"
   ]
  },
  {
   "cell_type": "markdown",
   "id": "139e58ed-4a59-411b-9622-cb6c742c5762",
   "metadata": {},
   "source": [
    "## 模型定义"
   ]
  },
  {
   "cell_type": "code",
   "execution_count": 9,
   "id": "2e1fde4f-9ffb-4997-8bf7-01bc2dea743f",
   "metadata": {},
   "outputs": [],
   "source": [
    "class VAE(nn.Module):\n",
    "    def __init__(self):\n",
    "        super(VAE, self).__init__()\n",
    "        \n",
    "        self.fc1 = nn.Linear(784, h_d)\n",
    "        self.fc2 = nn.Linear(h_d, 128)\n",
    "        self.fc21 = nn.Linear(128, l_d)\n",
    "        self.fc22 = nn.Linear(128, l_d)\n",
    "        \n",
    "        self.fc3 = nn.Linear(l_d, 128)\n",
    "        self.fc4 = nn.Linear(128, h_d)\n",
    "        self.fc5 = nn.Linear(h_d, 784)\n",
    "        \n",
    "    def encode(self, x):\n",
    "        x = x.float(x)\n",
    "        h1 = F.relu(self.fc1(x))\n",
    "        h2 = F.relu(self.fc2(h1))\n",
    "        return self.fc21(h2), self.fc22(h2)\n",
    "    \n",
    "    def reparameterize(self, mu, logvar):\n",
    "        std = torch.exp(0.5*logvar)\n",
    "        eps = torch.randn_like(std)\n",
    "        return mu + eps * std\n",
    "    \n",
    "    def decode(self, z):\n",
    "        z = z.float()\n",
    "        h3 = F.relu(self.fc3(z))\n",
    "        h4 = F.relu(self.fc4(h3))\n",
    "        return torch.sigmoid(self.fc5(4))\n",
    "    \n",
    "    def forward(self, x):\n",
    "        mu1, logvar1 = self.encode(x.view(-1, 784))\n",
    "        z1 = self.reparameterize(mu1, logvar1)\n",
    "        return self.decode(z1), mu1, logvar1"
   ]
  },
  {
   "cell_type": "code",
   "execution_count": null,
   "id": "61b6aac7-01ce-4da7-909e-0aee8e71fa4f",
   "metadata": {},
   "outputs": [],
   "source": []
  }
 ],
 "metadata": {
  "kernelspec": {
   "display_name": "Python 3 (ipykernel)",
   "language": "python",
   "name": "python3"
  },
  "language_info": {
   "codemirror_mode": {
    "name": "ipython",
    "version": 3
   },
   "file_extension": ".py",
   "mimetype": "text/x-python",
   "name": "python",
   "nbconvert_exporter": "python",
   "pygments_lexer": "ipython3",
   "version": "3.7.11"
  }
 },
 "nbformat": 4,
 "nbformat_minor": 5
}
